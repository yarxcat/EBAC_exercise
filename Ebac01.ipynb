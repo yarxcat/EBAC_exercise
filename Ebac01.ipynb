{
  "nbformat": 4,
  "nbformat_minor": 0,
  "metadata": {
    "colab": {
      "name": "Ebac01.ipynb",
      "provenance": [],
      "authorship_tag": "ABX9TyMaOp970XMgi96KOH4aNNX1",
      "include_colab_link": true
    },
    "kernelspec": {
      "name": "python3",
      "display_name": "Python 3"
    },
    "language_info": {
      "name": "python"
    }
  },
  "cells": [
    {
      "cell_type": "markdown",
      "metadata": {
        "id": "view-in-github",
        "colab_type": "text"
      },
      "source": [
        "<a href=\"https://colab.research.google.com/github/yarxcat/EBAC_exercise/blob/main/Ebac01.ipynb\" target=\"_parent\"><img src=\"https://colab.research.google.com/assets/colab-badge.svg\" alt=\"Open In Colab\"/></a>"
      ]
    },
    {
      "cell_type": "code",
      "execution_count": null,
      "metadata": {
        "id": "GADMAFp5D9xM"
      },
      "outputs": [],
      "source": [
        "print('Olá, mundo')"
      ]
    },
    {
      "cell_type": "markdown",
      "source": [
        "![brazil_logo_black_port.png](data:image/png;base64,iVBORw0KGgoAAAANSUhEUgAAAd8AAAC3CAYAAABT0FTbAAABN2lDQ1BBZG9iZSBSR0IgKDE5OTgpAAAokZWPv0rDUBSHvxtFxaFWCOLgcCdRUGzVwYxJW4ogWKtDkq1JQ5ViEm6uf/oQjm4dXNx9AidHwUHxCXwDxamDQ4QMBYvf9J3fORzOAaNi152GUYbzWKt205Gu58vZF2aYAoBOmKV2q3UAECdxxBjf7wiA10277jTG+38yH6ZKAyNguxtlIYgK0L/SqQYxBMygn2oQD4CpTto1EE9AqZf7G1AKcv8ASsr1fBBfgNlzPR+MOcAMcl8BTB1da4Bakg7UWe9Uy6plWdLuJkEkjweZjs4zuR+HiUoT1dFRF8jvA2AxH2w3HblWtay99X/+PRHX82Vun0cIQCw9F1lBeKEuf1UYO5PrYsdwGQ7vYXpUZLs3cLcBC7dFtlqF8hY8Dn8AwMZP/fNTP8gAAAAJcEhZcwAABYkAAAWJAW1onfoAAAXiaVRYdFhNTDpjb20uYWRvYmUueG1wAAAAAAA8P3hwYWNrZXQgYmVnaW49Iu+7vyIgaWQ9Ilc1TTBNcENlaGlIenJlU3pOVGN6a2M5ZCI/PiA8eDp4bXBtZXRhIHhtbG5zOng9ImFkb2JlOm5zOm1ldGEvIiB4OnhtcHRrPSJBZG9iZSBYTVAgQ29yZSA1LjYtYzE0MCA3OS4xNjA0NTEsIDIwMTcvMDUvMDYtMDE6MDg6MjEgICAgICAgICI+IDxyZGY6UkRGIHhtbG5zOnJkZj0iaHR0cDovL3d3dy53My5vcmcvMTk5OS8wMi8yMi1yZGYtc3ludGF4LW5zIyI+IDxyZGY6RGVzY3JpcHRpb24gcmRmOmFib3V0PSIiIHhtbG5zOnhtcD0iaHR0cDovL25zLmFkb2JlLmNvbS94YXAvMS4wLyIgeG1sbnM6ZGM9Imh0dHA6Ly9wdXJsLm9yZy9kYy9lbGVtZW50cy8xLjEvIiB4bWxuczpwaG90b3Nob3A9Imh0dHA6Ly9ucy5hZG9iZS5jb20vcGhvdG9zaG9wLzEuMC8iIHhtbG5zOnhtcE1NPSJodHRwOi8vbnMuYWRvYmUuY29tL3hhcC8xLjAvbW0vIiB4bWxuczpzdEV2dD0iaHR0cDovL25zLmFkb2JlLmNvbS94YXAvMS4wL3NUeXBlL1Jlc291cmNlRXZlbnQjIiB4bXA6Q3JlYXRvclRvb2w9IkFkb2JlIFBob3Rvc2hvcCBDQyAoTWFjaW50b3NoKSIgeG1wOkNyZWF0ZURhdGU9IjIwMjEtMDItMDVUMDk6NTE6MzArMDM6MDAiIHhtcDpNb2RpZnlEYXRlPSIyMDIxLTAyLTEwVDEwOjI5OjA5KzAzOjAwIiB4bXA6TWV0YWRhdGFEYXRlPSIyMDIxLTAyLTEwVDEwOjI5OjA5KzAzOjAwIiBkYzpmb3JtYXQ9ImltYWdlL3BuZyIgcGhvdG9zaG9wOkNvbG9yTW9kZT0iMyIgcGhvdG9zaG9wOklDQ1Byb2ZpbGU9IkFkb2JlIFJHQiAoMTk5OCkiIHhtcE1NOkluc3RhbmNlSUQ9InhtcC5paWQ6OWQ1MWI4OGUtZmJkMy00NTFkLTgxNjUtZTA2MWMxYzMxNDA4IiB4bXBNTTpEb2N1bWVudElEPSJ4bXAuZGlkOmQzNjhjZDg0LThmMzUtNDY2Yy1hNWFiLTdjYzc5YzY1MTk5OSIgeG1wTU06T3JpZ2luYWxEb2N1bWVudElEPSJ4bXAuZGlkOmQzNjhjZDg0LThmMzUtNDY2Yy1hNWFiLTdjYzc5YzY1MTk5OSI+IDx4bXBNTTpIaXN0b3J5PiA8cmRmOlNlcT4gPHJkZjpsaSBzdEV2dDphY3Rpb249ImNyZWF0ZWQiIHN0RXZ0Omluc3RhbmNlSUQ9InhtcC5paWQ6ZDM2OGNkODQtOGYzNS00NjZjLWE1YWItN2NjNzljNjUxOTk5IiBzdEV2dDp3aGVuPSIyMDIxLTAyLTA1VDA5OjUxOjMwKzAzOjAwIiBzdEV2dDpzb2Z0d2FyZUFnZW50PSJBZG9iZSBQaG90b3Nob3AgQ0MgKE1hY2ludG9zaCkiLz4gPHJkZjpsaSBzdEV2dDphY3Rpb249InNhdmVkIiBzdEV2dDppbnN0YW5jZUlEPSJ4bXAuaWlkOjlkNTFiODhlLWZiZDMtNDUxZC04MTY1LWUwNjFjMWMzMTQwOCIgc3RFdnQ6d2hlbj0iMjAyMS0wMi0xMFQxMDoyOTowOSswMzowMCIgc3RFdnQ6c29mdHdhcmVBZ2VudD0iQWRvYmUgUGhvdG9zaG9wIENDIChNYWNpbnRvc2gpIiBzdEV2dDpjaGFuZ2VkPSIvIi8+IDwvcmRmOlNlcT4gPC94bXBNTTpIaXN0b3J5PiA8L3JkZjpEZXNjcmlwdGlvbj4gPC9yZGY6UkRGPiA8L3g6eG1wbWV0YT4gPD94cGFja2V0IGVuZD0iciI/PkEeOa0AADO4SURBVHic7Z3rldu29rd/yDrfR/8KhqnATAXDVGCmAtMVWKkgcgVmKgingkNXYE4F4VRwOBW8VAV4P2DL4kAACZDgRdJ+1sKyBwI2Ni7EJnEVUkowDMMwDLMcv6ytAMMwDMPcG2x8GYZhGGZh2PgyDMMwzMKw8WUYhmGYhWHjyzAMwzALw8aXYRiGYRaGjS/DMAzDLAwbX4ZhGIZZmP/MnYAQIgZQAXiYOalXAImUsp05HYZhNoYQIgMQdf2klIc1dGEYF4TphCtqyLGUcj9JuBA7KMP7YYocD75LKdOF0mIYZiMIISoAT10/KaVYRxuGGeZi2FkIsQfwD4AvQoiKDOhYCixneAHgoxDisGB6DMMwDOPNO+MrhCgAfOt4PQGoaOjYCzLiHyfoNpa/hBDJCukyDMMwjBO/AGp4WAhRA/hkCPMBygAnrkIp7LeBYHNSCiGiFdNnGIZhGCu/dBZE9Q0PPwD4QXPBvdAwdTldtUk8bEAHhmEYhjHyC/wWRP1Dw8lDNCP1CUm9tgIMwzAMY+IX+G8B2vX9SFt9UgDHURqF4UVKma2YPsMwDMNYmeWQDSllAyDBOgb4Fcr4MwzDMMwmme2EKylljeUN8BFAxgdtMAzDMFtm1uMlyQBnc6ahkVKaDLN5aJdBMmYr34DceI7tdqTrHHJnKYcJeiRr6sHcB7MfLymlLIUQfwCIZ06qllJWM6fxkxVO77oHjlBHhNZrKzIXQogU6oU0QWe9hRACAN6g2tSBpm5cZe4A7EnuoybzSDILKWXpqWvS0dUmt5RSFp5yd1BTQym0swBI9ivJzn3KwRfajriHyt8H7TfgXB/Fkn0Lcz9IT3eQUuLeHdTpXb5lx27YtQCitet3hvYSQ3XkruWQA9g5ym0dZTZQo0NDMiNPXRuolyaXckg99JVQz5lLOVzoO5C/wrNd5mu3IXa35fhWoxHQSWCf1tbjRnmAOiRlt7YioejspX/yiPYF6nCbnYPcB0eZjwD+23cEK8ms4afrIxzOAaDn5r/w22HxCUAdakiavnZr+D+/X0h/hgkCG19PqONiwzsvHzBgeK6Fibd6faC4NnKL3DdyNhqTZ4AbyP6hYXWT7Bzjn5tHBGoPUg1j1yOjf3I5aIhhXGDj6wE9eH+trcedcCsGuMClMTsC+ArgVymlkOr2nd8AfDfE/2D6UqVy0b9OjwB+k1JGUsoIwP8B+Iz3hvirtM/RlgZdYdD1V/Iz7WS4kE0G+Ysh7Bvp939aOTwbwj4g3Kl1+87/j5TebycdSI/foeae++IyzCR85+QOa4+Vr+GgFp6sMQd6765Yu+4Dt5kW6rpOW5y9Jc5OC5f4PJsADlCLo/p+99U1gvqK/llXMMzXa2G6YXc9sk1lJ6G2EprCV3rYgbo5QBnzC307YXYm3dduV+xuw/GXrzvJ2grcKekVX5KxN/nJntXcUsocwIvm/QC3g2OSHrkH2X/XdWbyG9C1Ib2+A/hdSplJbXUyffU+alHfoMqh7ZFdAPjTUU9vTuWh66uFaWH+kk9C6MDcN2x83dnDPAzFzEvS10FuFRoW/qB5v0m3bTm5wS/t/iHNW1+ehBCNECLzGa6nuV7dQL5Ih61JUsqajJhJH8D80tBreDuyc1zOXT/dwFQEw8y/z/dWkFK29MZbgff2LsXnvi+vjRMb/Nq+lcYj5D3jchHTI4B/oBY/fYcaWi0HjF1i8Ct9FbQQ6x4uRl3T44tBZjVSn5+QEU9gP4MgAh9Vy8wEG18PyACnUKslH9bV5ub57PiVeE18wPgXN/3LFFCjMXGPzI/kclptnFuM8M7gV3vqZ0PXTR9SH8KkR4wJxpeMbg7etcCsCA87eyLXvTTiXrgFwxuHFqgPt5IhTWBeJd3lAWqVfrP2EY4jaAx+u7HCOifTseFlVoWN7wjk+dIIJjzPN2B4gXnuk451DyllSwupTlt0+l4KH6C2b0Uz6ObKzjN8bPBrJqSfw330YWi/NMOMhoedRyKlrIUQv2HCWzhzSc/CnVvg+8CK49HIziUmNDVycvr0yAPUNpus49cYRMYIMK8KNcz81Pn7gxBi57LgqqOHTjNGEfrqNX3xPsNynjbN0f81Jj2G6YON7wSueDEQMzNSyooO5++SeBqesWmXOB/RmePS4KTa35VBzB7mVde+1Lg8DCSFYQuPTucChndMeEGLDX4vUspspDyGGQ0POzPMfOhzsaevzl6EECm5pONiS9jc9hsNSWe4HDp90MI1uNxG9yiE2Dvq2vQcu1gY/HLH7UI5Lr/cTadfTaEa+D0OnB7DAGDjyzBzkhv8vvSdD0zb2QqoCwh+dFxqCJtBbcP5VwhxMBk0jz2xJl2/Oer6CLW16cII0+iQ6dCQ3rnnnstLCluckSQ9OsTQrjxkmJD4Hvd3WPtYLnbsrsVB7VM1PUcVlEGNcN5PWljCNrg8XjLG5dV8LZQRTcilUMO+urzSomsVQleD3NgStqvvjsJlMB9HKdFzrZ9Jd0OYnatc0kMv35NL1m5X7K7fCWpMPnyVUh484zDMXdLZ2jJ2f+8RqrOvNbn1BJnGrVyka4Pxe9iNupLsDOrwj7G8kuzW9KMQooI2tyzVBQmD4YgjzivUY/SXwe/ythcGMgvAw84MMyPyvBd3zNGkVmMGNXc8Zq+5dSvXjLqC0vw8Qi6ghq2thteTDOZye4Ayyk/gA3SYBRjz5fuGafvsQtFCHfzerqwHwwxCX5UHmK/WM/GMgTOQOzIzuBmMv6WU+6FAJHcP9y021q06Btkx1FCz6etT50hycwe5lS7T9OXb0aGE+dSwLt+h+jq9zvjLl5nMGOO7JWbbN6lzWlFqe7PfOqeFMLavni3R2SJTSr9zgDcPLTJKycU4G83TsGcFdY1i4yFzR/ISXB43+Uoycx+ZHblZR+7JWI3WtSM7Jtkx3hvNVyiDV/q0VWrfUddvaHqM4qRQ+TvVwxvO+apoUVmiRR2VZ4bpcu3GF1hgDpoOLSigHtCrO/pQm2/b9Jw9GacSZwOyaX0ZhmHGcAvGFwD+mOsLybJQ5GoMgmXLxuCQ5hrQ11CFyyHU7+ApBoZhbohbMb69iz3G0rPXEFALV7KQ6YXE4eaW3tWjS+OwGvYVA5e7MwzDXAu3YnyBgMaEDFeB4Q32mzJgJzy2txwBxGvPX9FJSt8cgm5CX4ZhmKnc0lajCOEuOYjhdrLNB6hVoVsjhtse0Adoi1RWYucYbiv6MgzDTOKWjG/KX0QMwzDMNXArxvcz77tjGIZhroVbML63cvk6wzAMcydcu/H9vuUVxwzDMAxj4j8j4mzqeMmVdWAYhmEYb8YY3+JaDphgGIZhmC1y7cPOzHR2ayvAMAxzb7DxZeK1FWAYhrk3xgw7M9snXlsBRiGEOGheFW+Lew+d6Z0afir5ONHbgi5OyTTvu3wm2PjeJru1FfAk8QjbzqTDXJjuxK2WVmII6hRzqJPd3rDs2o4S5rt1M2zoRDPt2Nmly+hWiHAlz8Tc8LDzdKK1FTAQe4SNZtJhFvhLaDZKnI9UfQTwl+GrPTh0rrftUvtH+n0rVFihjJjbhI2vmdojbDSTDlOIPcJGM+ngQ7y2AvcM3VdtOgt83xMnFkJUmss8090BOAwEO1C4VRlTRgzTBxtfA563FMUzqTEKGj60fUmYiOfRxA3qWPX7e228zajKPRNb/PvqZQfgSXORZ7p7QxpfDTocPOXOQWzxd227DPMONr52jo7hHrbwZt4h8Qz/QAZ7LWKPsM1MOtw7pcV/tpcdanP63N8LzaF+1/y/rNxGgRXKiLlt2PjaqT3CJjPpMIZ0RJwksA5zpd3MpMNdQ/Poz5r3EfOeIJcb/E7p7Q2/FTPp4cRKZcTcMGx87TQeYdOZdPCCvg5c7iHWScJq4kXqEbaZSYe7h85I/x1q2PcrgHiu7R+0tUhvp3+frgSlf//Wfn8SQiRz6OPKkmXE3D681chO4xE2mUkHXw4j46VCiJ3nXPdk6GXBtIjFRjWPJgwAkCGpFkinBiAGwuyxwcVMS5URc/vwl6+dyiPsI62GXA0yZJ9GRn/AOl/vmWf4egYdGIZhFoe/fO3UnuH3sC/KWIJiYvyDEKJc6uuXFqntPaK8Lv1lviSdIdXmNPx6T1B7iOnPdq793DTkvZszDUc9IpxXh9ch2nYnb8BK7Uirx1l16Ob3Gof/2fhakFK2QohXuA+LPgkhUillOaNaRugggqeJYh6hjOFhohxX9vDbplHNo8Y6UCeVkfug/QaoFb+Fa3sSQlSaVyGlLKiD2kONbJzK+6uU8kC/5T1iCyll0UnjpC9gPkUt0+dlpZSJIdwp/ym5BFpboDJ4hXqpLIaMk6bbu7RpVCqDNs/cKefc1nn7lpGDjqmuB/12hHp5L1wNCRnwPVT5XfRTJLNCT/5C0NEjhbbNsZOvw1RD7PDMvFFa+bW8wEpPd5BS4h4c1EPnUzYtgN3COmYj6rDPpQvoHG9Rr5nyevH8UP4bx3xXUAt7xqRjaxsHipP4POsk06veLLoe6FlxldMMlYFFtx2Vn0sahUWuVxlZZKQe9X2q86hHXgT1UuJTFyVm6Js820RuKU/XMvRpM4My13bwrMCryFTAwolHlE89RyO36JeN0G/ItQCSmcvU5yGSUEOEq7eHkfk1dYLe+cew8TF14L3PMFYwvvA3Gk5lYNGt9kwjN8j1KiNHvUbnFzRkPlJmHbht97Uxqw4jynBsmynWfv77HC+46kGqOSHfTfQfAFRzH7xBZ8r+M4PoBwA/5jhTl4YkK/ifClQEVmVNPuIy/0cALz1xHqDaVOSRzpOnXktRjoz3AP928MEzfNDDPOgZ+mtkdGOdSzX8Xo2U+SHUWdRCiAL9beyV3IUOnunsMX4h6SchRD4y7iL4vk30vqXcmsO0N9dsBn0S+L/Rj3U1Agz3YtwwWddFa7eDCXnvfTOH9nUDNTJQWcJXI9OpqB2fXEJxdtSeEqg5u95nneqxL3zR+T2BZQQFygB3dUvRGS0ivQ6WvMQWmbbwEmrINzulQfmwhc81uV5lpNXjoC4O+pSW56nFuZ/J9XKh9EuDvCZAm04turaGvO3Ir7XE6SvDqKcMUy1sAnu/aGyHazv0FIhXQVmE7wYKPbQzPpgTC2g3Uadab5Ajdch6GpeLm1IPDdQDnrrmA+rByWDuAHxctfZDMrH92PKVDcTbW+IlnumkjnomhrjWZ903vKE9N7a8DJSBMQ3YjVfhKd/a3nzyDPMLVN33/OD9lExLeTKGx3l3RTRQhiY9euM41F8zIm872PsvWxkWI9IxxbHW6ZoOlsLoc04PGAkvR8if4pq+iplQSHkg/SqcF8IkA25P6VaB0j5YGuZYV5NuuqsD12my9kMyse2MfoZgfn6K0OlQ/MQnvm/4kWW388j/wTWsFq/V4rRT8wzzF1sLh74Jqm84uIR1LENTuSQT5MWWvEUj49rK0FT3g2UI+wffoH5Lu9m2GtGy+o9zybfwCNVhJYHlHqAeioeJcp6wzlzcG5Qh32H8/InOh0By+niWV7h/b4Aj+reudNnj8hlKPdJyTeeaiDzCFg5harx/Jqc+44C5jnLpsJdXOm5bWpHU4FdIh609UspaCPEMtz7Ilk47kEZL89FftJ8SbGztyH+gOuZHjzj1UABaJJCP0mg6T0KIXKrj6YJAFXoA8C2UzIXJqNG2QoivGL8IZEmO2ODxggEoXTphAJBSNoa95g+OR4Fu/lASWoCXWH6Oen7bOonBrwidSGevdGQJElt0mUJs8Cs84hdwM76RwW/nuGBsZ/BLsEHjG0MNFw59yRwB7KXbpv8C695z+UUIUTnq6oSUMqfOYumv+al87X49SnW4QoplvlynkG7deIyk8Qxf4bKuYgyveG0901kMan85/F76r4md7uHyZegKGd0c4UaxfNjpHtLjpDApZUUHYgwRG/ym5DeaEHcWfqEOLsHldVldjlDzBMWQQHozWWNoVSefQWYG8/L5rfIs1f2oOinc7ytegz9vcLh5LO3aCoSE+of/4nYN76yQ4a2wjuFdkt3aCszNfwA1rAp1NFyLy7HyVyjD2zrKdA03N4fQAmn4OcO4vapL8yzVFWgX0HBmgm3m41lKma+txIaI1lYgFDQd5Trl8QrVl2zhRX5LHOA+avUC1X4286Ljcf5Bjcu6P7WJMdQj483GuwVXUsq9EKLG+fAGawduYyPDs89zLVygRQMJ1ND6Vodu/x6a895oPv68A8ObTA1/xaMCe4PfK9R0VmWKIISQcyo0Ew00wyGEiH2GZ3vIDH7PUGXY6j/QSEPINR4NLvOWekzxJY7hWoNfcUv9w8UJV2S0foPqCLORcjOsNzz7OkFvJ+ghSqAOZd8SRwB/uC4221A+TnrnK+uxBE+upyjRy5H+1XJN0x46scEvveKXCRuVwW8/VShd8qCPVL1KKTOPkcmpVAa/1CP+fqF0No/xeEkpZT2lIzwNY2P5ecUjFlohKaVspZQpgD+xjfnT71B72UqfSJ18/A7/ozRD8IwRel85xVCAzqIanTKsKuvStxBp7TuyJ1Aa/D6R8exFCJELISr9dihiZ/CrBkRGQ2l6Ykrvk0Xfd1B9Ok0j0AuZ3q8+ubQJIcReCHEQQqRCiIRc5JLuksx2tjN9Ve3nkm/BZ246CPSSEgH4inWM8AuA36WUk1YHSykrKWUE4DOW+bp6BvDrwm/tW+FJCFHY5r/Iv4R5OqCYTasVGOi098toERZqz6YFrFWfAaZzjL9AGagfPUa4S9ojL0bghVn0smTKW9mnKxnNwjO53OBXDKRTQG0J/QtqYd8PcpFn2rMz632+Ut0nCiyT8TrQnIo39LAd6BDvFKrTmHMe9XRHZh46zzTtUNCbYkouxKKX092iJTz2ut4wnwAk1GZq2oKR4Hy6mWkh3NeQW1ZmYE+LNmuor7RYW23f4LIt5UKIrNuOqe0VhrDXxB7v71AG/f9fOmiixHleM4IaKdTz+0QyKsC6TeeRDM67OV9aGJqPV7+XA8x5+9HJW03+MYUd8xKQQ5VLd+pFT6ftpLOHeXHZ31uc2hBSXuN6hu1DHUhCLsL0juQVdITjGkO09BYd4TxvlwxEqejfGuow9zq4UldAwAVDr1LK2COdF2m5yN4SP4H6Qujy1bJV7dS+/zckV0r501pY0jhxWskaoX91rjFfloVFvw91ukKICtqz2dVZC5vAr4xiAP/2pT/AxU4TMrQ2Q3a6GStG/y6GwXIZgoz7P0PhHBkqwwrjd2X47tZZjFm/fO8Z+kIp0BlqoQ4roj9j9O9la8i1WzBcpEONG5tzXIFnXH41DPGCjS02oe1qL/B4qaQvN9vxgqaRoiO2txXOGdpR8BvGGQ+b0djD3n4WGynojGr6GmDX4yVP6Zx2ZVQIV4abgI3vgpBBbujPajVFmDVpoF7ASgx3lkeoqYXDrBqNZw+VD+d9pFJK23kCOqfFk1O+HFeHjEcMNVTrYnR665zOGkjgtkXwBeqFeaisR0EGuIEaHnY5ITGDGt3wGoIOXYZbgYedGWZGDGfRVqchP+pEM7yflniFMtAlPObGDek0PnvdaVQms+k6EDfFeSQnQudAg4Fh6z3Fi6G+at5wznvROVO9izFflnOiBw/8p+HTqOs3oHOmeTuVUSd+ivN5zKeXlrF1fpIV42z8XqHKv9DWEXRxugjBB0rnpMupLb/hPFpWUn1GmF6GGc7TeacyfIEqwwpXsqaEjS/DMAzDLMxsW40YhmEYhjHDxpdhGIZhFoaNL8MwDMMsDBtfhmEYhlkYNr4MwzAMszBsfBmGYRhmYdj4MgzDMMzCsPFlGIZhmIVh48swDMMwC8PGl2EYhmEWho0vwzAMwywMG19mdeiwdIZhmLthkYsV6DqoHYbvsNVpsKE7bZmw0I0yGdQtKK9Q14AVK6rEMAyzCMGNLxnaBOerwobuefThdEVVDY9rqJhtQUb3APM9sG/021VcC8Ywc0NXB+ZQz8srgIOUslxRJW/oasg91NWR36HyUK+o0uoEMb6duxxTeFysHYjv8LwHk1keIcQO6it3D7c2coTqcHKuV+Zeob71h+Gn36/l44MM71+a9xFAdM/P9mjjS53pHqpDXdrg2vgOdVF0ubYijKLTTvZQb71j+L97fkjngEaocs274GH/bSGEKAB8Mvz0XUqZLqxLDjWa+RMpZeIQr4X52f9TSplP1+w6+Y9vBFocc4C5QazNRwAfhRBvUMMaxcr63C2ddpJivNEFgFc2vLOwg5pr71ItrwYzQGTx3y2ow4kYl23GBdvzvxutyQ3gvNpZCLGjN5//YZuGt8sjgH+EEA3NLzILIYSI6G391E6mGF5ATSkwzL1SefpvkReLf7WkElvDyfjShH8D4MucyszAyQhXNMzGzIQQIhFClAj/clYGlMUw10YOtciqyysupwy2zB5qjrfL87XMWc9F77AzzdcVUMO518wTgH+FEHc9xzAHtCDkgHHDUUO83fuKSOa+oSmXmEbwIgDNtU2nSSlrmobKoIaaeacKeowvfSmW2M5iqhB8I2OR8TziNAa2C4WinFE2w1wN12Zwdai/zVdWY1MYh52pY61wW4b3xEcAFX3VM54IITIhRAPgH8zfPsqZ5TMMw6zCxZcvze/+s7wqi/IBygAn/AU8TKDtQr4cb3Voiobgoo5XfSvtkEaWTjRSyiaAzBjnlbFBZHqmH6FTX9fWLun5jTtefGIgMcezqMm0lrVp2DmekvAVwQZ4gM48zR7LGV1ArY48LJje7NBoUgp1+ttFWdL2uApqi1wzICvG5RDenubWMqj66p4s97uUsuoc5wmYt3lkmvEc3MfZOTwlg+E0OyHEEWoEYzBfWrwYKh8ptPIimRXUwTqFq0wfTtNTlvQBteipgNob3fbIiTG9ri5wqJeT/gkMI1SUh+9Qh9hUPXK6v8UDvwOdveKmfcEdainlXpNV4rJd7l1eFGiHRaR5Z3qbo/aa4nysrUnWG1TdOh/w07e1slPW79urlPKdIwEyoGsoIxlUQ9jpaZocVEEmFO8A9bCF1Ovkahd97slR2RczlXefK6BOvVm9DAKWZUrPgE85ZAMyE0OcpKfOEop38K0Th7y1HvJyxzLLPGQ2p/wFbPuVR/otlIHwrStbGk511ZNe7Kn/6bnbWeT5PsOHTtw+PSpDWsWYNkN1pserDeH28GuvLYDUsb26ym1OMm0PlG+BmxLYY4aOFKrh5p6FOOScOoVbd1APrukBmNO1VJ/B28rajp6BseWSDTwDF51Zj6yE4h189ejRIRuZrxo9L+AT5KaB2n87Mv1iybrq0X9seystMn3lHDpx+/JZOZZVM/I522th8gllk3g+iy4uDyns1Kisis7QuWXw/6rwLuBbd+h/E5/LtVAdzG7t/M9YrhHsnXkDZYj6yifqqS/vto1AxhfDBrLuybeEpaMn2bZ4VU95tQDiGevqlEZffUkYXuLnqquefFQ9+lcDecwM8nyf64ODLhIG40txGkPY3rq11EvkUQ/NQN02PWmb9D211778xyZh8YgCb7Ci8YLfZ39fHnZr5WHFcutrIHO4htK9i7LG+7fyypR32Idv9xaZSU/5tlCjF4eOiyheRHETmL8Wis7viemZht1INdC+PqH6ktKiZ+qYr7pbXlBzghned3oXeo6op8qi58/y0+qrtoTX6zZEXRV63J58RJp8k/6RJb+1pU5OzpTnRHNRJ27cE7ey6J8b0sh78hsbwpcOsiuY22AGc/vOHNOuDeWdafnPpJSwZcinMz2s3cF1HkpTg7q6vCxQVhnCjRi4utrUgO/BUbvcD4QxPciVJWzSU8aRo04mGQeHeIUl3Z1nnMYQ7mAIZ20zJLe3XD2eBz3dFv3DjTu8f7EoTGU/UFfWMhsqF4fwxZB8GPoAh3bsHH4grq1tm56Di7bSCZ+7thmqs7qvXnvaQz71GaJ6+SnHFsi1M42nNvzQDtPmLFvXB+LaHDW8vemBm9lVQ42d3c86qh07KNNDL33K2bfj6MRrDfEih3imdhdrYTJDmHKBcq8M6e4d4u2gDLC13HvqKvbQ76DHD5TvC7l9epnKaUIZG9u2a1vpCdsGKpuLfsyxbq350p3tbOfvsB+GDQDP1ODqnjCrIKXMoPQbwwOUgboZ6EKMA1Qj/YblDk55hto2kcgr2xe5IrsJcV/nLmfavvKgeT9Lty1EucEv1f6uDGE+0gUpe9rOERTaevKkeb9Jh2NopZStlDIdUe6vG+k7d45+S5Mb/BLdg7Zx6f1ZOTVxjwOYaoPfk2t7NR4vKbV7Ijt7/xJcwdmiUsqMCvDjiOgZbmCPacAr/Xx5hueeznuAOooUar4tMgTZYdqLUTUhriuJyc+w19PEbkielLIRQrzg0hg+Qr04fhNCfIfqYEsZZn9+bPArA8jtY275p+c/hWprsSWYXs5boYSq7y4ZLo1yZohbDAmng6RicjtDkGhIBqBevoQQz7i8SKbbXq37wZ3u8+282VU9wbZGBvW152t4HoUQqZSyDK3QEqx03/IR6sHIA3WINwO9uBaYf8ShnVm+jUeMz9vO4Jei/7n9SC6nQxzmaHN1YHmLQR8dJbZrWAehl7BXvD985IMQItJe6lMt6lvfKAQZ3Rxhn8U9lBH/YPn9A86G+BlqOqMFPO7zvTYog/uR0dNgiizEjFf69fEG4CvUnN+BDe976GH/gds8Iz0EFx0WtaEI/dNegDLOfwGoJ14XaorbTJDnQjWHUDK8Da7Y8HbIDX7p6T+WIefCJoxODPuvIc4kqL0mcJvq/ASgObVXpy/fa0VKWdB8p2+BJ+G1mYeZr/Sz8QY1tFwsmOZV0bmO04bJuES4PkP9hsDG6tShUSeVQXW6tnJ5BFAKIeKRL3+1wS/GdY3ynchhHzF4xeXoyA72L7a1KXF5x0CGs1HODHEKkyAaDdRlnTjisg208JiypHaXka3Zo7+9PkAdaxzdtPElclzOHwzxaBji2BQLXemn8wI1zFcumOa1kuKyIzxC7S2sTBFo7nTLxrcx+JVSO6M3FLQoaQ9gT6MIJ6eX6yPMc4JjiQPJWQx62TONeH2FZWiejMUmjS/Np37HeyPYHXpOtSivPf313uD3CjUEXJkiCCGkj76AGi7Hub3GOJ95rrfXBwD5zQ47dyhHxosD6hCMha/0O/GC88rlcqE0r53I4Gd92IndLJqEozL4pUskLKUsaSdDBPMQ3yg9qD6OuqwrvHI0Nvh9v/LpoNLgl1iGnPMeObHBb+hZnISUsqaX0gjm9prcvPGlt5HXEVHjsJqM57RdSAjRYlmj+wzgV94uNIrE4NfYAlNnv8mvkBP0LL1p3o9CiP1QXNp6cei4xLYVQwhR2uZxJ67lsFFqfz/A4StaCBELIVrKzy6wTiGoB35PF9BhCiUML0YwDzmXPoIHFmbFPrKEEIV+G1gnnZZeGnUeb974EtWIOHFgHbwRQkSdPbp/YZktQ0ecjW42ZuidXhbyjXZIS1Eb/JKe8PksWoTnYPD7RtMgRqgNf4Nqwyf3A4bRAboa7iPUvJjNqF3Em8jB4PeJdDFCHXSF88KvZoNGOLH9QMZi8svenPmlF61S8/6Iy5eGZ9+ve5rGsJF7yDlADff/sNW/pYzeJp8Ecg0O425KcT6pZAZ9I6xzu9ABE0/4wvubYWps8BS0FdtcC+3oO6rr0qcNYuTpVA4yTm0ghXbWsBa3tumL89WhCfpPVCs9yizH+S7kPcynbOUT6yu36NlQmqc8pbA/my3cznZOPHU76DIMYXYWnQpcno1tK8Ne3WA+CawieRnpmTnGNbZtQ7zUomfXpSPqttXziv7rJC/0tdRti/dX6O5hfgaK1TupJZylkIacU+MIrGeM5Y1ug0AXHcB8KPlFI78HB9XJ6WXRLZPK8lAOtkFLez546hc5to+LusPwDUBDrtbb20B5ubgoQJ3VE58lU1mZ6srreYDj8ZKwv8RJ9N8K5aQb3K7ls7XZyiWcJW5fu2gntvUGI5/Fie319ud8iXZEnKfQStig+a8KwL9Ydo/uZyllJKUs5MRFGTT88g/MK/t+uMwL3hKyf27yAap9PWr++vzWbEg1nTC0l7YvboLL+V8XXqE6+FaT2UK9vI0pg88yzM6EBOpoXV+OAP6Q66+L2MNefk+4HGb2LevSM3woipG/AfjZXr9afn6E+Vl0IcW49vq3lLK6C+Mr1ZYFn0VXRwC/zaPNGVq5XEHNfy1l7E8rlyMZYJ8uze8WUPNefXyjhQm7qWleC1S+nzH8gB4pXD2zSjopxi1GPD1TMYC/HaMcAXyVUsa2Fz2pVtJHUGsOXDq1I5ThLRx16EXSWc1QdeH6YvEMNbVShtBhCp2XIpc6/Rue6wzo5eKzp1ohKEb+9hMp5QHAnw5BjwB+d5RZQbXXr3Bvr39K2pon6PP5LqDj6L4MBHuBmkNoZ9alxrKrW5+hzhetQgqlhRs/PKL8voEvhEWhF44MdN8pVL2fDj0oQee+0iKeXSdqKw0H8JO8WPNuxn79dc66NZEPPQta/nZQL5KnwwsaqGG90ueZIpkpzmUWQX2dvHZkTh6xGdDhlH7cSf8F52mDcqjMLXVVe5ZFBG2R2dAz1NkXHXXSr8kVUsraJNdFN4qXGOKe4peGODEc2nZPmonJ37cv6Zx5neJ8yMipTZWgdmpIb1BfS3vpPufv2stdGV/g5+EUOcwrh/+WMx0YoOmQQh11tgSzXnTAxpdhGMafuxh27kJDVAneD82chq/2C6mRzSz/CDUUMnq7EMMwDDMf93C85AU05JJAzRfEUMPM9RJp07DHx5nEv0HlaXCokGEYhlmPuzS+wM/VlekKSe9nkMkXHTAMw1wRd2t816CzMCUUL1CLJ4qAMhmGYZiZYeO7LCnCHBH5AvWlWwWQxTAMwywMG99l2U+MP+vKZYZhGGYZ2PguSwW1t8znNJUj1B4xNroMwzA3wt1tNVoTKeVeShkB+APDx9idtgtFvF2IYRjmtmDjuwJSXQyeAvgV6siz7lF2b1BHuEXyui/CZhiGYSzctfGl+3LTtdKXUjZSypy+hn9HwIsOGIZhmO1yt3O+dMhGCeBBCPGVDt5eDV65zDAMcz/c5ZcvXW/3A+dtP38JIcprvnGHbhdK6eagim5M2q2tF9OPECKmKyUTri+GuR/u6suXOrcc5jtzPwKohBDptSxuoptCEqj9w/qVhE8AcrrJiY+b3BA06rKH4ZhRIQQfEco4QdeRduEDd66Iu/nyJcNbof+y+g8ATuc+bxb6wm0A/AvgG+x3AT9A3bP7/+iLOFpGQ8YEjU5UUKMutvO9H6HqrKGXK4ax8aS5aFVtFoJGiyohhBRCtPSBcXXchfElw9vA7f7cBwA/6OrBrVLDb68woF46/kfD60lohZh+Oi9/thclnQeokZh4JpUY5uowPEcPAL5cowG+C+MLdXOR77GOeXg1wkDD4q9D4Sx8hHq5qDb+gnFrHOD28tflAWpR4KwIIXJqDyeXz50mw4wkgbkv/7KwHpO5F+O7GxGnDqxDaPKJ8Z8A/COEaIQQe17sMx803G/qHJ6h7lwWUkoBtedb53GBr98Y74cv506PYcYSr61AKO7F+CZrKzADZSA5j1Dzxo0Q4sDzwrOQGPy+6yeXSSlzmA1wOotWDHN9lBb/sSOBq8HG104TWIeg0ErYoSMqfTgtzvofL84KTmTwy00ByQAzDGNASlkD+FvzPiLsVa2LcPPGl4yI71wbsHHjSxQzyT0tzqp4cdY88KEqDDMOKeUewG9QZ9//CXUUb72mTmO4h32+6ch4VUAdZkFKWQohjghzR7CJJ6jFWa9Q+06LmdK5O4QQickAW0Ycmrn1YZhrgoxtvbIak7j5L1+Mv0O3DqjDnOQLpPEBvDhrCq3BL7WEzQx+ZSA9GIbZCDf95UtbaXz3wwLA67WcLiSlPNDBDRn6DxAJwWlx1oG2oxQzp3crlFDl1iUTQuT6aWpUnyXUPHFMfu3cCoZGn64IPcxOK8B3Ha86ZDnRC2bc8WpCnXw3t+6+LFCWEd6ve1g1v8Bl+8QaOkkpb9JBNaYWgBzh9mvrPzLPEZRBHJPnsa7yDJ+sXU4r1U1pKrsV9ak6Tn9OWu33CkDmIDO15PPkahc5PfKTAfkN1H7q3YCc2JC/uJMHW5tuABwm6F4YyrorO4eav3SVqctw1i1UWfbIjyg/jUtbMNRH7lBnXdfbrhz0Oem0H5tn7zJaIpE13EDDGnLOD8AWHdSLx6HnQV/TJWuXz0p1Elnqo1hJH996OwzkrfKQ1YCMnUfZ+chv0fMCDWV49Dgp3PuMGo4dND2LrnIHy3qgDgfjhS5LSxp7D/kVldGFv0OdDeadZBee5d/Ao32OfgYtCseU2QPU20JFDe5UGbMrNilTSm/fzsVY6dfsqOHt0f+2t7RL1i6XFetjbymT/Qq6+NbbwSInxviXvMxBzynyC4vMxBDWN41qZt0rDH/BO9XRnGVpSKMYIbseKl9Lnbm0z2ZkflvM/BE25cFcvMNwrPxsZGGfXLp2HmYsl7ENMaRL1i6LFeugr2PKBuImUC+VXdcbZ0Ceb70dDDJ26O/Ma/R/ZbXoeZHHsLE4ye8Lk1vKMkRbtpa/Q9k0DrpXnnV4UUeBy7IY0OcwUNcVucahbCvPOjPmHfYX3pM+9djyn9wfTHwwK2xoiBbT5zvrtfOwQBkl8J+nDemStctgw20z7Ylv6iQOgXTT20PlGK+0dYTQvtqgXv5anw6up2M0yU96wkeGsLY6aEjXnYPupUeZdnXX9Yn7wvek4RPWVDbtiLI0tlGo4WxT+BaGl5SBPA+1C1P9uea9gPbCh/M03WDbCdonGBTd9RSIrXAvKnBJRxVpayw+LlkrDyuUWYJp8+Jcxu5lXXg8S7Glfc/WMWCE8e3R6UJ/LU7r0iZgHsEylk9PWRemMoLd+Baw9GO2OD5hh9q+pZ20PTrpYQ+WcCHK8uQaT91726glXm8btJSvMe+ddlc76HIwyE1DPGPG9DwajkvHcbA1lFmUD7u6t1xK7y25wGXo4hosuKJwbQf7sFcJsyFqcflmbqqfIqCOlSa7coiTG3Q6OMTLXPIC88v03kH+DgOrhmHu4wbL06STJVw5RndLXVjjupa/pSxTR31McTMHXSQcX7QtaVjboKX+Btuegx6zyLWm56iAj2up8cezKX1eth/KILS4E2PQU6YRll0h3WLlEZMFynRnKc+Cfs96yibq1IspTBRQz0qTXTnEaQw6OdWlKb+GctPDNAHzmxjkJw7xcj2eY/6cdbfoZqwPQ7iDIYyp/dQe+qS29jtGZ0sapufAGt+S3kXeR7QLU14ny7U50yEbscHPhweo69O+CCHeoN4CSzlhkz1t0k467nGaihek8goPMgiJVAcInA7P2EM9EKHLucsD1EUOfwkhnqEaeTNjemuwx+XRn6/kDyllIYQAgH+0MA8ASjoI4GCQ+7yBstLbxhFKZ5e4+pGoD0KIWJ7P540NcUpP/eagHQpgOQu9dE1ASllRv9kt3yfX+AaiifqY6jTW/k4mplEIIfRnICh0aEoKpXtsCWbznwWT8d0FlP+IsyEGVMfTwO3oxph0mdLwXPg85cXg1qCXkAOUIc7o/3MaYUCdzPVJCPEdanVqNXN6S5EZ/PbdFz3qeHa4PAHrA9QX6QeDjEMQ7UZiOX/6AdOe1Z3l/yeqCbLXpvUM3yDcM5cY/CpPGS94X7emNqlTe6bx6ijXG/qg+DKH7CksfbzkB3IfF07XxrPkywKsUNkUQogU6mtt7hehjwA+CiFeoL6Eq5nTmw0yUHoH+mbKk5QypyP+Pmk/mTqjLXz1RjPLjw1+7cxpzkmztgJXQDuHUDp6d+5+axQm45tDvS1tUuGAPEsps7WVuAaklCXOw6B7zP/y9AT1dZfMnM6cRAa/xhZYSpnR6JBugLscMf6ikGDQ0KjufcS0y0iizv8rqCmJLjGu9+s3WjHtxuAXecrQwx8d4uw804g9ww9CI3c2O/YKs8FfzO5dGF8aEku2+qkeiD8lX1ruDX21VfRVd8C8Fzk8CSGiDXzlLQYZ4B3sLzeHLa9NkFImgUS1Br84kOy5aQx+sWtkqn/dALyNV8eoTwLHS1EsIzi1YxqlRxr62ogQ7A1+36FWa7cGPRIAP2bQw4j1SkGpLiz+A25vOdfCEcAfbHinIaVsaNTgVwB/Y742sp9J7hK0Br/IIV7W81syQo+5+K79/UDTE5OhhVd6m0qv4SpLelnUjeVHyzy5iczgV03QxxTXpywzg58u05RG5pHG3jGcL/q0zREWw7sGvff50nBjjMsH7Rp5gdr+VK6tyK1ARngPZVS+IrwRTgPLWwyLAXl0MFB5z28fhRDFeK2CUhr88qEOVwgRCyEOunOQ/wCHrzUhRCKEkEKIwsPghaY0+BVDkTojSt5xB3jW/n6Awz3gtA5BH/6/0IdeOF4npLHUCGs9YHjjhfRQeO6BarDMHtCQrsWEM3DZee+VywK3k3TtPE0oi8LSHi/yBL/bb4rAela6jg5xdrAcFwn7iUyxJc5FfmDf31z0yE80+S3sxyfqchOHPB/0eJZwkSWf5UDZ1Kby7NFHD3vo0WdqWf7MgyV85ttWe9IYyrep/i7ybpEbebZnY5kGee5GPKgZrsMIt7jxQxy27KidVAHqsVg7LxPKIOrJV43zBQnlQDuetVws9VR29DvAfARk2qNzjvO+/Az2Q3Fa2DvE3BKnMci3lWGr9wGY2fhS2L1j2aQ9ZSPRf1ynHvbQEzZUWRrritKoe9I4OKZxclVPOqb6u8g7zO261vOAfptmLdPJz92EBzbrKew13amid6EKid2EBhbmIoerrUtMu96yRv/tOPtAOpYOuhwscYuJdZsO6Dal7bQwn5WdGMImY+pyIPzUsskG5DvVkWc997neMoL9i3+Mqwb6lMG8o/+Gu8axbfWW6RTXO+fbh5SykFLGAH6DWnQzZUVeCL5DLaaKpJQHuZFJ9XtHSllJtQr2V1zOPbnwjLAHvyyKlPIA9Xz48h2qs2uhOhvTfPo32k4xlXxsRKkW3o3J32nxYzkQLsW4dnOEKr96RNwgTCybzzLwGQRSyhTjy/I3ObDvXqq53wT+tuDzCJ0GofKzrVd6xOWq8mUXF4e05FDzFjmW+SJuoN4sU1zxl9G9OZwvcmh76raEdq3btTu4r5loYL+CzVZmF+FH6HcY0OswED9xzJ+E5bahQOV3km9tO1joy1dLrwpdNr51NEdZWuTv4HZOfAMa+TD8VnnWnzXvsA+5v0sPC5/tLEi54NCqx5gKKiL3NELUafN+i/OFz7XkL9urhtrHHufzj1+hHvRS3vDeXlrtHONy21AF1a7LnrgRzNuVWhngC69zhropjcKlXmivZIrLlaMtVB4n1S+VXzJFfqdv6jLYp5jKX3qcwkYre1Nc1n2LEWVjOEe6GRE/hb0siyn9bM95yjWUcS07YXVD9CIt+8Yt9debd6q7DJdl30DlsxojdwqzGd/eRO2dyE98GjVzvVCDj0IYD4ZhrhMf43srLH22MwCA3iSaNdJmtgW9Wdcrq8EwDLMooxdcMQzDMMxULIesVAursTirfPkyDMMwt49hONmVKqQeW4S/fBmGYZgt8XIPa37Y+DIMwzBb4RVXfKa7D2x8GYZhmDU5Ql1881lKGd/LNtL/D9KLz874MpMKAAAAAElFTkSuQmCC)"
      ],
      "metadata": {
        "id": "LfDmDT28s4u-"
      }
    },
    {
      "cell_type": "markdown",
      "source": [
        "# **Números**"
      ],
      "metadata": {
        "id": "Trvvf7mx1-K5"
      }
    },
    {
      "cell_type": "markdown",
      "source": [
        "| Dia   | Valor Total Vendas | Qtd Total Vendas | Ticket Medio |\n",
        "|-------|--------------------|------------------|-|\n",
        "| 19/01 | (A)                | 3                |320.52|\n",
        "| 20/01 | 834.47             |(B)               |119.21|\n",
        "| 23/01 | 15378.12           | 5                |(C)|"
      ],
      "metadata": {
        "id": "ewUZCc4ItIYl"
      }
    },
    {
      "cell_type": "code",
      "source": [
        "valor_total_dia19 = 0\n",
        "qtd_total19 = 3\n",
        "ticket_19 = 320.52\n",
        "valor_total_dia19 = qtd_total19 * ticket_19\n",
        "print(valor_total_dia19)"
      ],
      "metadata": {
        "id": "DLv2PF9GxFeR"
      },
      "execution_count": null,
      "outputs": []
    },
    {
      "cell_type": "code",
      "source": [
        "valor_total_dia20 = 834.47\n",
        "qtd_total20 = 0\n",
        "ticket_20 = 119.21\n",
        "valor_total_dia20 = int(valor_total_dia20 / ticket_20)\n",
        "print(valor_total_dia20)"
      ],
      "metadata": {
        "id": "vsc7Hxjfysb7"
      },
      "execution_count": null,
      "outputs": []
    },
    {
      "cell_type": "code",
      "source": [
        "valor_total_dia23 = 15378.12\n",
        "qtd_total23 = 5\n",
        "ticket_23 = valor_total_dia23 / qtd_total23\n",
        "print('{:.2f}'.format(ticket_23))"
      ],
      "metadata": {
        "id": "It-HQeA_vjbd"
      },
      "execution_count": null,
      "outputs": []
    },
    {
      "cell_type": "markdown",
      "source": [
        "| Dia   | Valor Total Vendas | Qtd Total Vendas | Ticket Medio |\n",
        "|-------|--------------------|------------------|-|\n",
        "| 19/01 | 961.56             | 3                |320.52|\n",
        "| 20/01 | 834.47             | 7                |119.21|\n",
        "| 23/01 | 15378.12           | 5                |3075.62|"
      ],
      "metadata": {
        "id": "ZFVYiXmTz1kZ"
      }
    },
    {
      "cell_type": "markdown",
      "source": [
        "# **String**"
      ],
      "metadata": {
        "id": "GAIhzBp-0p_k"
      }
    },
    {
      "cell_type": "code",
      "source": [
        "cancao = 'Roda mundo, roda gigante, roda moinho, roda pião.'\n",
        "print(cancao.upper())\n",
        "print(cancao.casefold())\n",
        "print(cancao.find('m'))"
      ],
      "metadata": {
        "id": "QSGgLP1D0ydg"
      },
      "execution_count": null,
      "outputs": []
    },
    {
      "cell_type": "code",
      "source": [
        " noticia = 'Selic vai a 2,75% e supera expectativas; '+ 'é a primeira alta em 6 anos.'\n",
        " print(noticia)\n",
        " print(noticia[12:16])\n",
        " print(noticia[62:63])"
      ],
      "metadata": {
        "colab": {
          "base_uri": "https://localhost:8080/"
        },
        "id": "zZ61e0aN2TGW",
        "outputId": "0613f577-05fb-4b8b-c88f-24f18110e004"
      },
      "execution_count": null,
      "outputs": [
        {
          "output_type": "stream",
          "name": "stdout",
          "text": [
            "Selic vai a 2,75% e supera expectativas; é a primeira alta em 6 anos.\n",
            "2,75\n",
            "6\n",
            "62\n"
          ]
        }
      ]
    },
    {
      "cell_type": "markdown",
      "source": [
        "# **Boolean**"
      ],
      "metadata": {
        "id": "hOXZa2Ou5Eoy"
      }
    },
    {
      "cell_type": "code",
      "source": [
        "a = False\n",
        "b = True\n",
        "x = not a & b\n",
        "print(x)"
      ],
      "metadata": {
        "colab": {
          "base_uri": "https://localhost:8080/"
        },
        "id": "clp4PLTS5JoC",
        "outputId": "a7535d37-3ac4-42c6-c26d-df4782c5168a"
      },
      "execution_count": null,
      "outputs": [
        {
          "output_type": "stream",
          "name": "stdout",
          "text": [
            "True\n"
          ]
        }
      ]
    }
  ]
}